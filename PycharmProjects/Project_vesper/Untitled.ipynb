{
 "cells": [
  {
   "cell_type": "code",
   "execution_count": null,
   "metadata": {},
   "outputs": [],
   "source": [
    "# 1. 安装必要的依赖\n",
    "!pip install torch torchaudio yacs tqdm einops\n",
    "\n",
    "# 2. 设置数据集路径\n",
    "import os\n",
    "os.makedirs('CASIA', exist_ok=True)\n",
    "os.makedirs('ESD/ESV', exist_ok=True)\n",
    "\n",
    "# 3. 复制数据集到工作目录\n",
    "!cp -r /kaggle/input/casia/* CASIA/\n",
    "!cp -r /kaggle/input/esd/* ESD/\n",
    "\n",
    "# 4. 运行合并脚本\n",
    "!python combine_metadata.py\n",
    "\n",
    "!python extract_feature/WavLM/extract_wavlm.py\n",
    "\n",
    "!python pretrain.py -M Vesper-12 -b 32 -g 0,1 -l 0.0005\n",
    "\n",
    "# 5. 开始训练\n",
    "!python finetune.py -M Vesper-12 -d combined -g 0 -b 32 -l 0.0007\n",
    "\n",
    "# 监控GPU使用情况\n",
    "!nvidia-smi\n",
    "\n",
    "# 监控内存使用情况\n",
    "!free -h\n",
    "\n",
    "# 显示训练进度\n",
    "from IPython.display import clear_output\n",
    "import time\n",
    "\n",
    "def monitor_training():\n",
    "    while True:\n",
    "        clear_output(wait=True)\n",
    "        !nvidia-smi\n",
    "        time.sleep(60)  # 每分钟更新一次\n",
    "\n",
    "# 在后台运行监控\n",
    "import threading\n",
    "monitor_thread = threading.Thread(target=monitor_training)\n",
    "monitor_thread.start()\n",
    "\n",
    "# 保存模型和训练日志\n",
    "!mkdir -p /kaggle/working/checkpoints\n",
    "!cp -r checkpoints/* /kaggle/working/checkpoints/\n",
    "!cp combined_metadata.csv /kaggle/working/"
   ]
  }
 ],
 "metadata": {
  "kernelspec": {
   "display_name": "Python 3",
   "language": "python",
   "name": "python3"
  },
  "language_info": {
   "codemirror_mode": {
    "name": "ipython",
    "version": 3
   },
   "file_extension": ".py",
   "mimetype": "text/x-python",
   "name": "python",
   "nbconvert_exporter": "python",
   "pygments_lexer": "ipython3",
   "version": "3.8.3"
  }
 },
 "nbformat": 4,
 "nbformat_minor": 4
}
